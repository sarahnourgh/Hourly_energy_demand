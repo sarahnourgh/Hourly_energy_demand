{
 "cells": [
  {
   "cell_type": "markdown",
   "metadata": {},
   "source": [
    "# Importing Libraries"
   ]
  },
  {
   "cell_type": "code",
   "execution_count": 1,
   "metadata": {},
   "outputs": [],
   "source": [
    "#Necessary Libraries\n",
    "import pandas as pd\n",
    "import matplotlib.pyplot as plt\n",
    "from datetime import datetime"
   ]
  },
  {
   "cell_type": "markdown",
   "metadata": {},
   "source": [
    "# Loading and Exploring the Data"
   ]
  },
  {
   "cell_type": "code",
   "execution_count": 3,
   "metadata": {},
   "outputs": [],
   "source": [
    "#Importing the datasets\n",
    "energy_df = pd.read_csv('data/energy_dataset.csv')\n",
    "weather_df = pd.read_csv('data/weather_features.csv')\n",
    "\n",
    "#Split the time column into date and time\n",
    "energy_df['Date'] = energy_df['time'].apply(lambda x: x.split(' ')[0])\n",
    "energy_df['Hour'] = energy_df['time'].apply(lambda x: x.split(' ')[1].split(':')[0])\n",
    "weather_df['Date'] = weather_df['dt_iso'].apply(lambda x: x.split(' ')[0])\n",
    "weather_df['Hour'] = weather_df['dt_iso'].apply(lambda x: x.split(' ')[1].split(':')[0])\n",
    "\n",
    "#Combine the date and time columns\n",
    "energy_df['time'] = energy_df['Date'] + ' ' + energy_df['Hour']\n",
    "energy_df['time'] = pd.to_datetime(energy_df['time'], format='%Y-%m-%d %H')\n",
    "weather_df['dt_iso'] = weather_df['Date'] + ' ' + weather_df['Hour']\n",
    "weather_df['dt_iso'] = pd.to_datetime(weather_df['dt_iso'], format='%Y-%m-%d %H')\n",
    "\n",
    "#Drop the date and hour columns\n",
    "energy_df.drop(['Date', 'Hour'], axis=1, inplace=True)\n",
    "weather_df.drop(['Date', 'Hour'], axis=1, inplace=True)\n",
    "\n",
    "#time column to index\n",
    "energy_df.set_index('time', inplace=True)\n",
    "weather_df.set_index('dt_iso', inplace=True)"
   ]
  },
  {
   "cell_type": "code",
   "execution_count": null,
   "metadata": {},
   "outputs": [],
   "source": []
  }
 ],
 "metadata": {
  "kernelspec": {
   "display_name": "Python 3",
   "language": "python",
   "name": "python3"
  },
  "language_info": {
   "codemirror_mode": {
    "name": "ipython",
    "version": 3
   },
   "file_extension": ".py",
   "mimetype": "text/x-python",
   "name": "python",
   "nbconvert_exporter": "python",
   "pygments_lexer": "ipython3",
   "version": "3.10.8"
  }
 },
 "nbformat": 4,
 "nbformat_minor": 2
}
